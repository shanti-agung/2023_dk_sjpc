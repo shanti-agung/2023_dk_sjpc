{
 "cells": [
  {
   "cell_type": "code",
   "execution_count": 1,
   "metadata": {},
   "outputs": [],
   "source": [
    "import os\n",
    "import pandas as pd "
   ]
  },
  {
   "cell_type": "code",
   "execution_count": 6,
   "metadata": {},
   "outputs": [
    {
     "data": {
      "text/html": [
       "<div>\n",
       "<style scoped>\n",
       "    .dataframe tbody tr th:only-of-type {\n",
       "        vertical-align: middle;\n",
       "    }\n",
       "\n",
       "    .dataframe tbody tr th {\n",
       "        vertical-align: top;\n",
       "    }\n",
       "\n",
       "    .dataframe thead th {\n",
       "        text-align: right;\n",
       "    }\n",
       "</style>\n",
       "<table border=\"1\" class=\"dataframe\">\n",
       "  <thead>\n",
       "    <tr style=\"text-align: right;\">\n",
       "      <th></th>\n",
       "      <th>category</th>\n",
       "      <th>rpt_name</th>\n",
       "      <th>field_name</th>\n",
       "      <th>data_type</th>\n",
       "      <th>notes</th>\n",
       "    </tr>\n",
       "  </thead>\n",
       "  <tbody>\n",
       "    <tr>\n",
       "      <th>0</th>\n",
       "      <td>Service Views</td>\n",
       "      <td>rpt.service</td>\n",
       "      <td>service_id</td>\n",
       "      <td>integer</td>\n",
       "      <td></td>\n",
       "    </tr>\n",
       "    <tr>\n",
       "      <th>1</th>\n",
       "      <td>Service Views</td>\n",
       "      <td>rpt.service</td>\n",
       "      <td>service_name</td>\n",
       "      <td>character varying(80)</td>\n",
       "      <td></td>\n",
       "    </tr>\n",
       "    <tr>\n",
       "      <th>2</th>\n",
       "      <td>Service Views</td>\n",
       "      <td>rpt.service</td>\n",
       "      <td>service_type_id</td>\n",
       "      <td>integer</td>\n",
       "      <td></td>\n",
       "    </tr>\n",
       "    <tr>\n",
       "      <th>3</th>\n",
       "      <td>Service Views</td>\n",
       "      <td>rpt.service</td>\n",
       "      <td>service_type</td>\n",
       "      <td>character varying(20)</td>\n",
       "      <td>None</td>\n",
       "    </tr>\n",
       "    <tr>\n",
       "      <th>4</th>\n",
       "      <td>Service Views</td>\n",
       "      <td>rpt.service_profile</td>\n",
       "      <td>service_id</td>\n",
       "      <td>integer</td>\n",
       "      <td>References service_id in rpt.service</td>\n",
       "    </tr>\n",
       "  </tbody>\n",
       "</table>\n",
       "</div>"
      ],
      "text/plain": [
       "        category             rpt_name       field_name              data_type  \\\n",
       "0  Service Views          rpt.service       service_id                integer   \n",
       "1  Service Views          rpt.service     service_name  character varying(80)   \n",
       "2  Service Views          rpt.service  service_type_id                integer   \n",
       "3  Service Views          rpt.service     service_type  character varying(20)   \n",
       "4  Service Views  rpt.service_profile       service_id                integer   \n",
       "\n",
       "                                  notes  \n",
       "0                                        \n",
       "1                                        \n",
       "2                                        \n",
       "3                                  None  \n",
       "4  References service_id in rpt.service  "
      ]
     },
     "execution_count": 6,
     "metadata": {},
     "output_type": "execute_result"
    }
   ],
   "source": [
    "path = '../data/cleanpenelopedict.json'\n",
    "penelope = pd.read_json(path)\n",
    "penelope.head()"
   ]
  },
  {
   "cell_type": "code",
   "execution_count": null,
   "metadata": {},
   "outputs": [],
   "source": []
  }
 ],
 "metadata": {
  "kernelspec": {
   "display_name": "venv",
   "language": "python",
   "name": "python3"
  },
  "language_info": {
   "codemirror_mode": {
    "name": "ipython",
    "version": 3
   },
   "file_extension": ".py",
   "mimetype": "text/x-python",
   "name": "python",
   "nbconvert_exporter": "python",
   "pygments_lexer": "ipython3",
   "version": "3.7.3"
  },
  "orig_nbformat": 4
 },
 "nbformat": 4,
 "nbformat_minor": 2
}
