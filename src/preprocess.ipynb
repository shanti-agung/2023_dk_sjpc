{
 "cells": [
  {
   "cell_type": "code",
   "execution_count": null,
   "metadata": {},
   "outputs": [],
   "source": [
    "import os\n",
    "import pandas as pd\n",
    "import numpy as np "
   ]
  },
  {
   "cell_type": "code",
   "execution_count": null,
   "metadata": {},
   "outputs": [],
   "source": [
    "# load dataset\n",
    "path = '../data/cleanpenelopedict.json'\n",
    "penelope = pd.read_json(path)\n",
    "penelope['notes'] = penelope['notes'].str.strip()"
   ]
  },
  {
   "cell_type": "code",
   "execution_count": null,
   "metadata": {},
   "outputs": [],
   "source": [
    "# load relevant tables\n",
    "path = '../data/relevant_tables.csv'\n",
    "relevant_tbl = pd.read_csv(path)\n",
    "relevant_tbl['rpt_name'] = relevant_tbl['rpt_name'].str.strip()"
   ]
  },
  {
   "cell_type": "code",
   "execution_count": null,
   "metadata": {},
   "outputs": [],
   "source": [
    "# select only relevant tables from penelope df\n",
    "sjpc_pnlp = penelope.merge(relevant_tbl, on='rpt_name')\n",
    "sjpc = penelope[penelope['rpt_name'].isin(sjpc_pnlp['rpt_name'])]"
   ]
  },
  {
   "cell_type": "code",
   "execution_count": null,
   "metadata": {},
   "outputs": [],
   "source": [
    "# sanity check\n",
    "len(sjpc.rpt_name.unique())"
   ]
  },
  {
   "cell_type": "code",
   "execution_count": null,
   "metadata": {},
   "outputs": [],
   "source": [
    "# replace blanks with nan\n",
    "sjpc['notes'] = sjpc.notes.replace('',np.nan, regex=True)\n",
    "sjpc.notes.fillna(value=np.nan, inplace=True)\n",
    "sjpc = sjpc.sort_values(by=['field_name','notes'])"
   ]
  },
  {
   "cell_type": "code",
   "execution_count": null,
   "metadata": {},
   "outputs": [],
   "source": [
    "# fill blanks by group\n",
    "sjpc['notes'] = sjpc.groupby('field_name')['notes'].ffill()"
   ]
  },
  {
   "cell_type": "code",
   "execution_count": null,
   "metadata": {},
   "outputs": [],
   "source": [
    "# implode\n",
    "sjpc_dict = (sjpc.groupby(['field_name', 'data_type']).agg({'rpt_name': lambda x: x.tolist(), 'category': lambda x: x.tolist(), 'notes': lambda x: x.tolist()})\n",
    "             .rename({'rpt_name': 'rpt_tables'} , axis=1)\n",
    "             .reset_index())\n"
   ]
  },
  {
   "cell_type": "code",
   "execution_count": null,
   "metadata": {},
   "outputs": [],
   "source": [
    "# keep only unique values in the lists\n",
    "sjpc_dict['notes'] = sjpc_dict['notes'].apply(np.unique)"
   ]
  },
  {
   "cell_type": "code",
   "execution_count": null,
   "metadata": {},
   "outputs": [],
   "source": [
    "# convert the list columns to string\n",
    "sjpc_dict['rpt_tables'] = [','.join(map(str, l)) for l in sjpc_dict['rpt_tables']]\n",
    "sjpc_dict['category'] = [','.join(map(str, l)) for l in sjpc_dict['category']]\n",
    "sjpc_dict['notes'] = [','.join(map(str, l)) for l in sjpc_dict['notes']]\n",
    "sjpc_dict['notes'] = sjpc_dict['notes'].replace('nan','')\n",
    "sjpc_dict['notes'] = sjpc_dict['notes'].replace('nan,nan','')"
   ]
  },
  {
   "cell_type": "code",
   "execution_count": null,
   "metadata": {},
   "outputs": [],
   "source": [
    "# resulting data dictionary template for sjpc\n",
    "sjpc_dict = sjpc_dict[['category','field_name','data_type', 'rpt_tables', 'notes']]\n",
    "sjpc_dict['description'] = ''\n",
    "sjpc_dict.head(30)"
   ]
  },
  {
   "cell_type": "code",
   "execution_count": null,
   "metadata": {},
   "outputs": [],
   "source": [
    "# export as csv\n",
    "path = '../data/sjpc_datadict.csv'\n",
    "sjpc_dict.to_csv(path, index=False)"
   ]
  }
 ],
 "metadata": {
  "kernelspec": {
   "display_name": "venv",
   "language": "python",
   "name": "python3"
  },
  "language_info": {
   "codemirror_mode": {
    "name": "ipython",
    "version": 3
   },
   "file_extension": ".py",
   "mimetype": "text/x-python",
   "name": "python",
   "nbconvert_exporter": "python",
   "pygments_lexer": "ipython3",
   "version": "3.7.3"
  },
  "orig_nbformat": 4
 },
 "nbformat": 4,
 "nbformat_minor": 2
}
